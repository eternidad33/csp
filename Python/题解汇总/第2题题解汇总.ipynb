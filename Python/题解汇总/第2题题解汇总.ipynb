{
 "cells": [
  {
   "cell_type": "markdown",
   "metadata": {
    "pycharm": {
     "name": "#%% md\n"
    }
   },
   "source": [
    "# 目录\n",
    "\n",
    "- [ISBN号码](#ISBN号码)\n",
    "- [窗口](#窗口)\n",
    "- [画图](#画图)\n",
    "- [Z字形扫描](#Z字形扫描)"
   ]
  },
  {
   "cell_type": "markdown",
   "metadata": {},
   "source": [
    "## ISBN号码\n",
    "\n",
    "试题编号：\t201312-2  \n",
    "试题名称：\tISBN号码\n",
    "\n",
    "[返回目录](#目录)"
   ]
  },
  {
   "cell_type": "code",
   "execution_count": 1,
   "metadata": {},
   "outputs": [],
   "source": [
    "def backlist(s):\n",
    "    '''将字符串提取为整型数组'''\n",
    "    rlist = []\n",
    "    for i in s:\n",
    "        if i.isdigit():\n",
    "            rlist.append(int(i))\n",
    "    return rlist\n",
    "\n",
    "\n",
    "# s = input()\n",
    "s= \"0-670-82162-4\"\n",
    "l = backlist(s)\n",
    "sum = 0\n",
    "for i in range(9):\n",
    "    sum += l[i] * (i + 1)\n",
    "code = sum % 11\n",
    "if s[-1] == str(code) or (s[-1] == 'X' and code == 10):\n",
    "    print(\"Right\")\n",
    "else:\n",
    "    if code == 10:\n",
    "        s = s[:-1] + 'X'\n",
    "    else:\n",
    "        s = s[:-1] + str(code)\n",
    "    print(s)"
   ]
  },
  {
   "cell_type": "markdown",
   "metadata": {},
   "source": [
    "## 窗口\n",
    "\n",
    "试题编号：\t201403-2  \n",
    "试题名称：\t窗口\n",
    "\n",
    "[返回目录](#目录)"
   ]
  },
  {
   "cell_type": "code",
   "execution_count": 2,
   "metadata": {},
   "outputs": [],
   "source": [
    "def chuangkou(window, point_x, point_y):\n",
    "    \"\"\"识别窗口\"\"\"\n",
    "    global i, j\n",
    "    find = False\n",
    "    for i, s in reversed(list(enumerate(window))):\n",
    "        if s[0] <= point_x <= s[2] and s[1] <= point_y <= s[3]:\n",
    "            print(s[4])\n",
    "            last = window[i]\n",
    "            for j in range(i, len(window) - 1):\n",
    "                window[j] = window[j + 1]\n",
    "            window[-1] = last\n",
    "            find = True\n",
    "            break\n",
    "    if not find:\n",
    "        print('IGNORED')\n",
    "\n",
    "\n",
    "# 录入数据\n",
    "# n, m = map(int, input().split())\n",
    "# w = []\n",
    "# for i in range(n):\n",
    "#     w.append(list(map(int, input().split())))\n",
    "#     w[i].append(i + 1)\n",
    "# for j in range(m):\n",
    "#     x, y = list(map(int, input().split()))\n",
    "#     chuangkou(w, x, y)"
   ]
  },
  {
   "cell_type": "markdown",
   "metadata": {},
   "source": [
    "## 画图\n",
    "\n",
    "试题编号：\t201409-2  \n",
    "试题名称：\t画图\n",
    "\n",
    "[返回目录](#目录)"
   ]
  },
  {
   "cell_type": "code",
   "execution_count": 3,
   "metadata": {},
   "outputs": [],
   "source": [
    "def huaTu():\n",
    "    n = int(input())\n",
    "    pnum = [[0] * 100 for _ in range(100)]\n",
    "    for i in range(n):\n",
    "        x1, y1, x2, y2 = map(int, input().split())\n",
    "        for x in range(x1, x2):\n",
    "            for y in range(y1, y2):\n",
    "                # 将被覆盖的区域置为1\n",
    "                pnum[x][y] = 1\n",
    "    area = 0\n",
    "    for i in range(100):\n",
    "        area += sum(pnum[i])\n",
    "    print(area)\n",
    "\n",
    "\n",
    "# huaTu()"
   ]
  },
  {
   "cell_type": "markdown",
   "metadata": {},
   "source": [
    "\n",
    "## Z字形扫描\n",
    "\n",
    "试题编号：\t201412-2  \n",
    "试题名称：\tZ字形扫描\n",
    "\n",
    "[返回目录](#目录)"
   ]
  },
  {
   "cell_type": "code",
   "execution_count": 4,
   "metadata": {},
   "outputs": [],
   "source": [
    "def z(num):\n",
    "    # up用于存储是否向上遍历，默认向上遍历\n",
    "    up = True\n",
    "    line = []\n",
    "    i, j = 0, 0\n",
    "    for _ in range(n * n):\n",
    "        line.append(num[i][j])\n",
    "        # 处理向上移动\n",
    "        if up:\n",
    "            # 处理碰到右边界，下移\n",
    "            if j == n - 1:\n",
    "                i += 1\n",
    "                up = False\n",
    "            # 处理碰到上边界，右移\n",
    "            elif i == 0:\n",
    "                j += 1\n",
    "                up = False\n",
    "            # 其他情况，右上\n",
    "            else:\n",
    "                j += 1\n",
    "                i -= 1\n",
    "        else:\n",
    "            if i == n - 1:\n",
    "                j += 1\n",
    "                up = True\n",
    "            elif j == 0:\n",
    "                i += 1\n",
    "                up = True\n",
    "            else:\n",
    "                j -= 1\n",
    "                i += 1\n",
    "    print(\" \".join(map(str, line)))\n",
    "\n",
    "\n",
    "# n = int(input())\n",
    "# pnum = []\n",
    "# for i in range(n):\n",
    "#     pnum.append(list(map(int, input().split())))\n",
    "# z(pnum)"
   ]
  }
 ],
 "metadata": {
  "kernelspec": {
   "display_name": "PyCharm (csp)",
   "language": "python",
   "name": "pycharm-b28dbbde"
  },
  "language_info": {
   "codemirror_mode": {
    "name": "ipython",
    "version": 3
   },
   "file_extension": ".py",
   "mimetype": "text/x-python",
   "name": "python",
   "nbconvert_exporter": "python",
   "pygments_lexer": "ipython3",
   "version": "3.7.6"
  }
 },
 "nbformat": 4,
 "nbformat_minor": 1
}
