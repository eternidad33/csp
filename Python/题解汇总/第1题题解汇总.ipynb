{
 "cells": [
  {
   "cell_type": "markdown",
   "metadata": {},
   "source": [
    "# 目录\n",
    "\n",
    "- [出现次数最多的数](#出现次数最多的数)\n",
    "- [相反数](#相反数)\n",
    "- [相邻数对](#相邻数对)\n",
    "- [门禁系统](#门禁系统)\n",
    "- [图像旋转](#图像旋转)\n",
    "- [数列分段](#数列分段)\n",
    "- [数位之和](#数位之和)\n",
    "- [折点计数](#折点计数)\n",
    "- [最大波动](#最大波动)\n",
    "- [中间数](#中间数)\n",
    "- [分蛋糕](#分蛋糕)\n",
    "- [打酱油](#打酱油)\n",
    "- [最小差值](#最小差值)"
   ]
  },
  {
   "cell_type": "markdown",
   "metadata": {
    "collapsed": true
   },
   "source": [
    "## 出现次数最多的数\n",
    "\n",
    "试题编号：\t201312-1  \n",
    "试题名称：\t出现次数最多的数\n",
    "\n",
    "[返回目录](#目录)"
   ]
  },
  {
   "cell_type": "code",
   "execution_count": 1,
   "metadata": {},
   "outputs": [
    {
     "name": "stdout",
     "output_type": "stream",
     "text": [
      "10\n"
     ]
    }
   ],
   "source": [
    "n=6\n",
    "l=[10, 1, 10, 20, 30, 20]\n",
    "# n = int(input())\n",
    "# l = list(map(int, input().split()))\n",
    "# 先将数据转成集合，然后再转成列表\n",
    "s = list(set(l))\n",
    "# t用于记录s中元素在l出现的次数\n",
    "t = []\n",
    "for x in s:\n",
    "    t.append(l.count(x))\n",
    "# t中最大值对应的索引即为所求\n",
    "print(s[t.index(max(t))])"
   ]
  },
  {
   "cell_type": "markdown",
   "metadata": {},
   "source": [
    "## 相反数\n",
    "\n",
    "试题编号：\t201403-1  \n",
    "试题名称：\t相反数\n",
    "\n",
    "[返回目录](#目录)"
   ]
  },
  {
   "cell_type": "code",
   "execution_count": 2,
   "metadata": {},
   "outputs": [
    {
     "name": "stdout",
     "output_type": "stream",
     "text": [
      "2\n"
     ]
    }
   ],
   "source": [
    "# n = int(input())\n",
    "n = 5\n",
    "s=[1,2,3,-1,-2]\n",
    "# s = input().split()\n",
    "num = []\n",
    "for i in range(n):\n",
    "    s[i] = int(s[i])\n",
    "    if s[i] not in num:\n",
    "        num.append(s[i])\n",
    "count = 0\n",
    "for i in num:\n",
    "    for j in num:\n",
    "        if i + j == 0:\n",
    "            count += 1\n",
    "print(int(count / 2))\n"
   ]
  },
  {
   "cell_type": "markdown",
   "metadata": {},
   "source": [
    "## 相邻数对\n",
    "\n",
    "试题编号：\t201409-1  \n",
    "试题名称：\t相邻数对\n",
    "\n",
    "[返回目录](#目录)"
   ]
  },
  {
   "cell_type": "code",
   "execution_count": 3,
   "metadata": {},
   "outputs": [
    {
     "name": "stdout",
     "output_type": "stream",
     "text": [
      "3\n"
     ]
    }
   ],
   "source": [
    "# n = int(input())\n",
    "n=6\n",
    "s=[10,2,6,3,7,8]\n",
    "# s = input().split()\n",
    "num = []\n",
    "for i in range(n):\n",
    "    s[i] = int(s[i])\n",
    "    if s[i] not in num:\n",
    "        num.append(s[i])\n",
    "count = 0\n",
    "for i in num:\n",
    "    for j in num:\n",
    "        if i - j == 1:\n",
    "            count += 1\n",
    "print(count)"
   ]
  },
  {
   "cell_type": "markdown",
   "metadata": {},
   "source": [
    "## 门禁系统\n",
    "\n",
    "试题编号：\t201412-1  \n",
    "试题名称：\t门禁系统\n",
    "\n",
    "[返回目录](#目录)"
   ]
  },
  {
   "cell_type": "code",
   "execution_count": 4,
   "metadata": {},
   "outputs": [
    {
     "name": "stdout",
     "output_type": "stream",
     "text": [
      "1 1 2 3 1 "
     ]
    }
   ],
   "source": [
    "n=5\n",
    "s=[1, 2, 1, 1, 3]\n",
    "# n = int(input())\n",
    "# s = input().split()\n",
    "a = []\n",
    "for i in range(n):\n",
    "    s[i] = int(s[i])\n",
    "    a.append(s[i])\n",
    "c = []\n",
    "for j in range(len(a)):\n",
    "    count = 1\n",
    "    for k in range(j):\n",
    "        if a[j] == a[k]:\n",
    "            count += 1\n",
    "    c.append(count)\n",
    "for t in c:\n",
    "    print(t, end=\" \")\n"
   ]
  },
  {
   "cell_type": "markdown",
   "metadata": {},
   "source": [
    "## 图像旋转\n",
    "\n",
    "试题编号：\t201503-1  \n",
    "试题名称：\t图像旋转\n",
    "\n",
    "[返回目录](#目录)"
   ]
  },
  {
   "cell_type": "code",
   "execution_count": 5,
   "metadata": {},
   "outputs": [],
   "source": [
    "def tuxiangxuanzhuan(row, col):\n",
    "    img = []\n",
    "    for i in range(row):\n",
    "        a = list(map(int, input().split()))\n",
    "        img.append(a)\n",
    "    for i in range(col):\n",
    "        for j in range(row):\n",
    "            print(img[j][col - 1 - i], end=\" \")\n",
    "        print()"
   ]
  },
  {
   "cell_type": "markdown",
   "metadata": {},
   "source": [
    "## 数列分段\n",
    "\n",
    "试题编号：\t201509-1  \n",
    "试题名称：\t数列分段\n",
    "\n",
    "[返回目录](#目录)"
   ]
  },
  {
   "cell_type": "code",
   "execution_count": 6,
   "metadata": {},
   "outputs": [
    {
     "name": "stdout",
     "output_type": "stream",
     "text": [
      "5\n"
     ]
    }
   ],
   "source": [
    "n=8\n",
    "a=[8, 8, 8, 0, 12, 12, 8, 0]\n",
    "# n = int(input())\n",
    "# a = list(map(int, input().split()))\n",
    "count = 1\n",
    "for i in range(1, n):\n",
    "    if a[i] != a[i - 1]:\n",
    "        count += 1\n",
    "print(count)"
   ]
  },
  {
   "cell_type": "markdown",
   "metadata": {},
   "source": [
    "## 数位之和\n",
    "\n",
    "试题编号：\t201512-1  \n",
    "试题名称：\t数位之和\n",
    "\n",
    "[返回目录](#目录)"
   ]
  },
  {
   "cell_type": "code",
   "execution_count": 7,
   "metadata": {},
   "outputs": [
    {
     "name": "stdout",
     "output_type": "stream",
     "text": [
      "13\n"
     ]
    }
   ],
   "source": [
    "# n = input()\n",
    "n=\"20151220\"\n",
    "sum_n = 0\n",
    "for i in n:\n",
    "    i = int(i)\n",
    "    sum_n += i\n",
    "print(sum_n)"
   ]
  },
  {
   "cell_type": "markdown",
   "metadata": {},
   "source": [
    "## 折点计数\n",
    "\n",
    "试题编号：\t201604-1  \n",
    "试题名称：\t折点计数\n",
    "\n",
    "[返回目录](#目录)"
   ]
  },
  {
   "cell_type": "code",
   "execution_count": 8,
   "metadata": {},
   "outputs": [
    {
     "name": "stdout",
     "output_type": "stream",
     "text": [
      "2\n"
     ]
    }
   ],
   "source": [
    "n=7\n",
    "a=[5,4,1,2,3,6,4]\n",
    "# n = int(input())\n",
    "# a = list(map(int, input().split()))\n",
    "count = 0\n",
    "for i in range(1, n - 1):\n",
    "    if a[i - 1] > a[i] and a[i + 1] > a[i]:\n",
    "        count += 1\n",
    "    elif a[i - 1] < a[i] and a[i + 1] < a[i]:\n",
    "        count += 1\n",
    "    else:\n",
    "        pass\n",
    "print(count)\n"
   ]
  },
  {
   "cell_type": "markdown",
   "metadata": {},
   "source": [
    "## 最大波动\n",
    "\n",
    "试题编号：\t201609-1  \n",
    "试题名称：\t最大波动\n",
    "\n",
    "[返回目录](#目录)"
   ]
  },
  {
   "cell_type": "code",
   "execution_count": 9,
   "metadata": {},
   "outputs": [
    {
     "name": "stdout",
     "output_type": "stream",
     "text": [
      "4\n"
     ]
    }
   ],
   "source": [
    "n=6\n",
    "a=[2, 5, 5, 7, 3, 5]\n",
    "# n = int(input())\n",
    "# a = list(map(int, input().split()))\n",
    "b = 0\n",
    "for i in range(n - 1):\n",
    "    temp = abs(a[i] - a[i + 1])\n",
    "    if temp > b:\n",
    "        b = temp\n",
    "print(b)"
   ]
  },
  {
   "cell_type": "markdown",
   "metadata": {},
   "source": [
    "## 中间数\n",
    "\n",
    "试题编号：\t201612-1  \n",
    "试题名称：\t中间数\n",
    "\n",
    "[返回目录](#目录)"
   ]
  },
  {
   "cell_type": "code",
   "execution_count": 10,
   "metadata": {},
   "outputs": [
    {
     "name": "stdout",
     "output_type": "stream",
     "text": [
      "5\n"
     ]
    }
   ],
   "source": [
    "n=6\n",
    "a=[2, 6, 5, 6, 3, 5]\n",
    "# n = int(input())\n",
    "# a = list(map(int, input().split()))\n",
    "t = False\n",
    "for i in a:\n",
    "    max_num, min_num = 0, 0\n",
    "    for j in a:\n",
    "        if j < i:\n",
    "            min_num += 1\n",
    "        if j > i:\n",
    "            max_num += 1\n",
    "    if min_num == max_num:\n",
    "        print(i)\n",
    "        t = True\n",
    "        break\n",
    "if not t:\n",
    "    print(-1)"
   ]
  },
  {
   "cell_type": "markdown",
   "metadata": {},
   "source": [
    "## 分蛋糕\n",
    "\n",
    "试题编号：\t201703-1  \n",
    "试题名称：\t分蛋糕\n",
    "\n",
    "[返回目录](#目录)"
   ]
  },
  {
   "cell_type": "code",
   "execution_count": 11,
   "metadata": {},
   "outputs": [
    {
     "name": "stdout",
     "output_type": "stream",
     "text": [
      "3\n"
     ]
    }
   ],
   "source": [
    "n,k=6,9\n",
    "a=[2, 6, 5, 6, 3, 5]\n",
    "# n, k = map(int, input().split())\n",
    "# a = list(map(int, input().split()))\n",
    "count = 0\n",
    "t = 0\n",
    "for i in a:\n",
    "    t += i\n",
    "    if t >= k:\n",
    "        count += 1\n",
    "        t = 0\n",
    "if t != 0:\n",
    "    count += 1\n",
    "print(count)"
   ]
  },
  {
   "cell_type": "markdown",
   "metadata": {},
   "source": [
    "## 打酱油\n",
    "\n",
    "试题编号：\t201709-1  \n",
    "试题名称：\t打酱油\n",
    "\n",
    "[返回目录](#目录)"
   ]
  },
  {
   "cell_type": "code",
   "execution_count": 12,
   "metadata": {},
   "outputs": [
    {
     "name": "stdout",
     "output_type": "stream",
     "text": [
      "5\n"
     ]
    }
   ],
   "source": [
    "# n = int(input())\n",
    "n=40\n",
    "n1 = n // 50\n",
    "n2 = (n % 50) // 30\n",
    "n3 = (n - (50 * n1 + 30 * n2)) / 10\n",
    "n4 = 7 * n1 + 4 * n2 + n3\n",
    "print(int(n4))"
   ]
  },
  {
   "cell_type": "markdown",
   "metadata": {},
   "source": [
    "## 最小差值\n",
    "\n",
    "试题编号：\t201712-1  \n",
    "试题名称：\t最小差值\n",
    "\n",
    "[返回目录](#目录)"
   ]
  },
  {
   "cell_type": "code",
   "execution_count": 13,
   "metadata": {},
   "outputs": [
    {
     "name": "stdout",
     "output_type": "stream",
     "text": [
      "1\n"
     ]
    }
   ],
   "source": [
    "n=5\n",
    "a=[1, 5, 4, 8, 20]\n",
    "# n = int(input())\n",
    "# a = list(map(int, input().split()))\n",
    "minn = abs(a[1] - a[0])\n",
    "for i in range(n):\n",
    "    for j in range(n):\n",
    "        if i != j:\n",
    "            temp = abs(a[i] - a[j])\n",
    "            if temp < minn:\n",
    "                minn = temp\n",
    "print(minn)\n"
   ]
  }
 ],
 "metadata": {
  "kernelspec": {
   "display_name": "Python 3",
   "language": "python",
   "name": "python3"
  },
  "language_info": {
   "codemirror_mode": {
    "name": "ipython",
    "version": 3
   },
   "file_extension": ".py",
   "mimetype": "text/x-python",
   "name": "python",
   "nbconvert_exporter": "python",
   "pygments_lexer": "ipython3",
   "version": "3.7.6"
  }
 },
 "nbformat": 4,
 "nbformat_minor": 1
}
