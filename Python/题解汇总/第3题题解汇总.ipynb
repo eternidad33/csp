{
 "cells": [
  {
   "cell_type": "markdown",
   "metadata": {},
   "source": [
    "[![Jupyter Notebook预览](https://cdn.jsdelivr.net/gh/eternidad33/picbed/img/upyter%E9%A2%84%E8%A7%88.png)](https://nbviewer.jupyter.org/github/eternidad33/csp/blob/master/Python/题解汇总/第2题题解汇总.ipynb)"
   ]
  },
  {
   "cell_type": "markdown",
   "metadata": {},
   "source": [
    "# 目录\n",
    "\n",
    "- [最大的矩形](#最大的矩形)\n",
    "- [命令行选项](#命令行选项)"
   ]
  },
  {
   "cell_type": "markdown",
   "metadata": {},
   "source": [
    "## 最大的矩形\n",
    "\n",
    "试题编号：\t201312-3  \n",
    "试题名称：\t最大的矩形\n",
    "\n",
    "[返回目录](#目录)"
   ]
  },
  {
   "cell_type": "code",
   "execution_count": 1,
   "metadata": {},
   "outputs": [],
   "source": [
    "def 最大的矩形(count, l):\n",
    "    \"\"\"思路：遍历每个矩形向左右延伸的最大面积\"\"\"\n",
    "    b = []  # 储存所有局部最大矩形\n",
    "    for i in range(count):\n",
    "        width = 0  # 矩形宽度\n",
    "        for j in reversed(range(i)):  # 向左（反转）搜索左边高度不小于矩形i高度的\n",
    "            if l[j] >= l[i]:\n",
    "                width += 1  # 加左边宽度\n",
    "            else:\n",
    "                break\n",
    "        for j in range(i, count):  # 向右搜索高度不小于矩形i高度的\n",
    "            if l[j] >= l[i]:\n",
    "                width += 1  # 加右边宽度（含矩形i自身）\n",
    "            else:\n",
    "                break\n",
    "        b.append(l[i] * width)  # 得到包含矩形i自身的局部最大矩形面积\n",
    "    print(max(b))  # 从所有局部最大矩形选出全局最大举行\n",
    "\n",
    "# n = int(input())\n",
    "# a = list(map(int, input().split()))\n",
    "# 最大的矩形(n, a)"
   ]
  },
  {
   "cell_type": "markdown",
   "metadata": {},
   "source": [
    "## 命令行选项\n",
    "\n",
    "试题编号：\t201403-3  \n",
    "试题名称：\t命令行选项\n",
    "\n",
    "[返回目录](#目录)"
   ]
  },
  {
   "cell_type": "code",
   "execution_count": 2,
   "metadata": {},
   "outputs": [],
   "source": [
    "def 命令行选项(ops, count, cmd_list):\n",
    "    ops += \" \"\n",
    "    global i\n",
    "    uop = []  # 存储无参选项\n",
    "    hop = []  # 存储有参选项\n",
    "    for i in range(len(ops) - 1):\n",
    "        if ops[i + 1] == \":\":\n",
    "            hop.append(ops[i])\n",
    "        else:\n",
    "            uop.append(ops[i])\n",
    "    for i in range(count):\n",
    "        # 将命令分割\n",
    "        cmd = cmd_list[i]\n",
    "        d = {}\n",
    "        j = 1\n",
    "        while j < len(cmd):\n",
    "            # 如果为参数选项\n",
    "            if cmd[j][0] == \"-\" and len(cmd[j]) == 2:\n",
    "                if cmd[j][1] in uop:  # 无参选项处理\n",
    "                    d[cmd[j][1]] = \"#\"\n",
    "                    j += 1\n",
    "                elif cmd[j][1] in hop and j + 1 < len(cmd):  # 有参选项处理\n",
    "                    d[cmd[j][1]] = cmd[j + 1]\n",
    "                    j += 2\n",
    "                else:  # 其他选项错误退出循环\n",
    "                    break\n",
    "            else:\n",
    "                break\n",
    "        keys = list(set(d.keys()))\n",
    "        keys.sort()\n",
    "        print(\"Case \" + str(i + 1) + \":\", end=\"\")\n",
    "        for key in keys:\n",
    "            print(\" -\" + key, end=\"\")\n",
    "            if d[key] != \"#\":\n",
    "                print(\" \" + d[key], end=\"\")\n",
    "        print()\n",
    "\n",
    "\n",
    "# options = input()\n",
    "# n = int(input())\n",
    "# cmds = []\n",
    "# for i in range(n):\n",
    "#     cmds.append(list(input().split()))\n",
    "# 命令行选项(options, n, cmds)"
   ]
  }
 ],
 "metadata": {
  "kernelspec": {
   "display_name": "Python 3",
   "language": "python",
   "name": "python3"
  },
  "language_info": {
   "codemirror_mode": {
    "name": "ipython",
    "version": 3
   },
   "file_extension": ".py",
   "mimetype": "text/x-python",
   "name": "python",
   "nbconvert_exporter": "python",
   "pygments_lexer": "ipython3",
   "version": "3.7.6"
  }
 },
 "nbformat": 4,
 "nbformat_minor": 4
}
