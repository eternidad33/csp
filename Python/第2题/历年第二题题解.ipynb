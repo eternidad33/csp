{
 "cells": [
  {
   "cell_type": "markdown",
   "metadata": {},
   "source": [
    "## ISBN号码"
   ]
  },
  {
   "cell_type": "markdown",
   "metadata": {},
   "source": [
    "试题编号：\t201312-2  \n",
    "试题名称：\tISBN号码"
   ]
  },
  {
   "cell_type": "code",
   "execution_count": 1,
   "metadata": {},
   "outputs": [],
   "source": [
    "def backlist(s):\n",
    "    '''将字符串提取为整型数组'''\n",
    "    rlist = []\n",
    "    for i in s:\n",
    "        if i.isdigit():\n",
    "            rlist.append(int(i))\n",
    "    return rlist"
   ]
  },
  {
   "cell_type": "code",
   "execution_count": 2,
   "metadata": {
    "pycharm": {
     "name": "#%%\n"
    }
   },
   "outputs": [
    {
     "name": "stdout",
     "output_type": "stream",
     "text": [
      "Right\n"
     ]
    }
   ],
   "source": [
    "# s = input()\n",
    "s= \"0-670-82162-4\"\n",
    "l = backlist(s)\n",
    "sum = 0\n",
    "for i in range(9):\n",
    "    sum += l[i] * (i + 1)\n",
    "code = sum % 11\n",
    "if s[-1] == str(code) or (s[-1] == 'X' and code == 10):\n",
    "    print(\"Right\")\n",
    "else:\n",
    "    if code == 10:\n",
    "        s = s[:-1] + 'X'\n",
    "    else:\n",
    "        s = s[:-1] + str(code)\n",
    "    print(s)"
   ]
  },
  {
   "cell_type": "code",
   "execution_count": null,
   "outputs": [],
   "source": [],
   "metadata": {
    "collapsed": false,
    "pycharm": {
     "name": "#%%\n"
    }
   }
  },
  {
   "cell_type": "code",
   "execution_count": null,
   "metadata": {},
   "outputs": [],
   "source": []
  }
 ],
 "metadata": {
  "kernelspec": {
   "display_name": "PyCharm (csp)",
   "language": "python",
   "name": "pycharm-b28dbbde"
  },
  "language_info": {
   "codemirror_mode": {
    "name": "ipython",
    "version": 3
   },
   "file_extension": ".py",
   "mimetype": "text/x-python",
   "name": "python",
   "nbconvert_exporter": "python",
   "pygments_lexer": "ipython3",
   "version": "3.7.6"
  }
 },
 "nbformat": 4,
 "nbformat_minor": 1
}