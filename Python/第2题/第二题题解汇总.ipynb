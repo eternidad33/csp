{
 "cells": [
  {
   "cell_type": "markdown",
   "metadata": {
    "pycharm": {
     "name": "#%% md\n"
    }
   },
   "source": [
    "# 目录\n",
    "\n",
    "- [ISBN号码](#ISBN号码)\n",
    "- [窗口](#窗口)"
   ]
  },
  {
   "cell_type": "markdown",
   "metadata": {},
   "source": [
    "## ISBN号码\n",
    "\n",
    "试题编号：\t201312-2  \n",
    "试题名称：\tISBN号码\n",
    "\n",
    "[返回目录](#目录)"
   ]
  },
  {
   "cell_type": "code",
   "execution_count": 5,
   "metadata": {},
   "outputs": [
    {
     "name": "stdout",
     "output_type": "stream",
     "text": [
      "Right\n"
     ]
    }
   ],
   "source": [
    "def backlist(s):\n",
    "    '''将字符串提取为整型数组'''\n",
    "    rlist = []\n",
    "    for i in s:\n",
    "        if i.isdigit():\n",
    "            rlist.append(int(i))\n",
    "    return rlist\n",
    "\n",
    "# s = input()\n",
    "s= \"0-670-82162-4\"\n",
    "l = backlist(s)\n",
    "sum = 0\n",
    "for i in range(9):\n",
    "    sum += l[i] * (i + 1)\n",
    "code = sum % 11\n",
    "if s[-1] == str(code) or (s[-1] == 'X' and code == 10):\n",
    "    print(\"Right\")\n",
    "else:\n",
    "    if code == 10:\n",
    "        s = s[:-1] + 'X'\n",
    "    else:\n",
    "        s = s[:-1] + str(code)\n",
    "    print(s)"
   ]
  },
  {
   "cell_type": "markdown",
   "metadata": {},
   "source": [
    "## 窗口\n",
    "\n",
    "试题编号：\t201403-2  \n",
    "试题名称：\t窗口\n",
    "\n",
    "[返回目录](#目录)"
   ]
  },
  {
   "cell_type": "code",
   "execution_count": 4,
   "metadata": {},
   "outputs": [],
   "source": [
    "def chuangkou(window, point_x, point_y):\n",
    "    \"\"\"识别窗口\"\"\"\n",
    "    global i, j\n",
    "    find = False\n",
    "    for i, s in reversed(list(enumerate(window))):\n",
    "        if s[0] <= point_x <= s[2] and s[1] <= point_y <= s[3]:\n",
    "            print(s[4])\n",
    "            last = window[i]\n",
    "            for j in range(i, len(window) - 1):\n",
    "                window[j] = window[j + 1]\n",
    "            window[-1] = last\n",
    "            find = True\n",
    "            break\n",
    "    if not find:\n",
    "        print('IGNORED')\n",
    "\n",
    "\n",
    "# 录入数据\n",
    "# n, m = map(int, input().split())\n",
    "# w = []\n",
    "# for i in range(n):\n",
    "#     w.append(list(map(int, input().split())))\n",
    "#     w[i].append(i + 1)\n",
    "# for j in range(m):\n",
    "#     x, y = list(map(int, input().split()))\n",
    "#     chuangkou(w, x, y)"
   ]
  }
 ],
 "metadata": {
  "kernelspec": {
   "display_name": "PyCharm (csp)",
   "language": "python",
   "name": "pycharm-b28dbbde"
  },
  "language_info": {
   "codemirror_mode": {
    "name": "ipython",
    "version": 3
   },
   "file_extension": ".py",
   "mimetype": "text/x-python",
   "name": "python",
   "nbconvert_exporter": "python",
   "pygments_lexer": "ipython3",
   "version": "3.7.6"
  }
 },
 "nbformat": 4,
 "nbformat_minor": 1
}
